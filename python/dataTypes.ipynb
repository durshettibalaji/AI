{
 "cells": [
  {
   "cell_type": "markdown",
   "id": "29f993a8-5ae7-4742-8f14-8e2e496cece8",
   "metadata": {},
   "source": [
    "# lets learn python\n"
   ]
  },
  {
   "cell_type": "code",
   "execution_count": null,
   "id": "7cbb967f-f1c5-42e0-bd42-6bc21814167e",
   "metadata": {},
   "outputs": [],
   "source": []
  },
  {
   "cell_type": "code",
   "execution_count": null,
   "id": "4756d6d6-c7a3-4041-966b-93809b713ac7",
   "metadata": {},
   "outputs": [],
   "source": []
  },
  {
   "cell_type": "code",
   "execution_count": null,
   "id": "c65b7829-c802-4413-8fc5-23c8823b4079",
   "metadata": {},
   "outputs": [],
   "source": []
  },
  {
   "cell_type": "markdown",
   "id": "503a1940-b583-4dc6-9923-2bcb95581663",
   "metadata": {},
   "source": [
    "- Data Types\n"
   ]
  },
  {
   "cell_type": "markdown",
   "id": "b95ab9e4-b3c2-4ca9-a20f-d2e40db62d81",
   "metadata": {},
   "source": [
    "#### to check data type"
   ]
  },
  {
   "cell_type": "code",
   "execution_count": 4,
   "id": "cef526cf-3fef-41f3-8089-968db9e3be4e",
   "metadata": {},
   "outputs": [
    {
     "data": {
      "text/plain": [
       "int"
      ]
     },
     "execution_count": 4,
     "metadata": {},
     "output_type": "execute_result"
    }
   ],
   "source": [
    "type(1)"
   ]
  },
  {
   "cell_type": "code",
   "execution_count": 6,
   "id": "1f1b1ae2-5a77-4a76-bf91-8dc47439d735",
   "metadata": {},
   "outputs": [
    {
     "data": {
      "text/plain": [
       "bool"
      ]
     },
     "execution_count": 6,
     "metadata": {},
     "output_type": "execute_result"
    }
   ],
   "source": [
    "type(True)"
   ]
  },
  {
   "cell_type": "code",
   "execution_count": 7,
   "id": "b54883ad-5b87-41c0-a7dd-fe9f761f4ad7",
   "metadata": {},
   "outputs": [
    {
     "data": {
      "text/plain": [
       "str"
      ]
     },
     "execution_count": 7,
     "metadata": {},
     "output_type": "execute_result"
    }
   ],
   "source": [
    "type(\"balaji\")"
   ]
  },
  {
   "cell_type": "code",
   "execution_count": 8,
   "id": "e689fac3-4ccf-4fe7-9176-60e9db5cea36",
   "metadata": {},
   "outputs": [],
   "source": [
    "# string is encoded in double code or single code "
   ]
  },
  {
   "cell_type": "code",
   "execution_count": 9,
   "id": "d87245d3-a328-4027-9b4e-3aff9510e490",
   "metadata": {},
   "outputs": [
    {
     "data": {
      "text/plain": [
       "str"
      ]
     },
     "execution_count": 9,
     "metadata": {},
     "output_type": "execute_result"
    }
   ],
   "source": [
    "a=\"balaji\"\n",
    "b='balaji'\n",
    "type(a)\n"
   ]
  },
  {
   "cell_type": "code",
   "execution_count": 1,
   "id": "da1803c4-898a-4ffd-8bf7-6b32ac004d38",
   "metadata": {},
   "outputs": [
    {
     "data": {
      "text/plain": [
       "float"
      ]
     },
     "execution_count": 1,
     "metadata": {},
     "output_type": "execute_result"
    }
   ],
   "source": [
    "type(4.6)"
   ]
  },
  {
   "cell_type": "markdown",
   "id": "b26d1d87-e69e-4c50-9d6b-92278388cb4d",
   "metadata": {},
   "source": [
    "- String"
   ]
  },
  {
   "cell_type": "code",
   "execution_count": 2,
   "id": "5b770148-326f-4cbd-9035-4ddd375b1003",
   "metadata": {},
   "outputs": [
    {
     "data": {
      "text/plain": [
       "float"
      ]
     },
     "execution_count": 2,
     "metadata": {},
     "output_type": "execute_result"
    }
   ],
   "source": [
    "type(5/6)"
   ]
  },
  {
   "cell_type": "code",
   "execution_count": 10,
   "id": "a4d17bf6-1a88-4eb6-9feb-7af92a1bdcaa",
   "metadata": {},
   "outputs": [
    {
     "data": {
      "text/plain": [
       "str"
      ]
     },
     "execution_count": 10,
     "metadata": {},
     "output_type": "execute_result"
    }
   ],
   "source": [
    "type(b)"
   ]
  },
  {
   "cell_type": "code",
   "execution_count": 11,
   "id": "1e0ed663-6761-418f-abb2-eadf77f170f5",
   "metadata": {},
   "outputs": [
    {
     "name": "stdout",
     "output_type": "stream",
     "text": [
      "balaji\n"
     ]
    }
   ],
   "source": [
    "print(a)"
   ]
  },
  {
   "cell_type": "code",
   "execution_count": 14,
   "id": "3d423d7b-693d-4ef2-86db-0f4c4037a84f",
   "metadata": {},
   "outputs": [
    {
     "name": "stdout",
     "output_type": "stream",
     "text": [
      "my first name is Balaji and last name isDurshetti\n"
     ]
    }
   ],
   "source": [
    "firstName =\"Balaji\"\n",
    "lastName =\"Durshetti\"\n",
    "print(\"my first name is {} and last name is {}\".format(firstName,lastName))"
   ]
  },
  {
   "cell_type": "code",
   "execution_count": 16,
   "id": "e541420e-48ab-463c-99f3-ad902b25b017",
   "metadata": {},
   "outputs": [
    {
     "name": "stdout",
     "output_type": "stream",
     "text": [
      "my first name is Balaji and last name is Durshetti\n"
     ]
    }
   ],
   "source": [
    "print(\"my first name is {first} and last name is {laste}\".format(first=firstName,laste=lastName))"
   ]
  },
  {
   "cell_type": "code",
   "execution_count": 17,
   "id": "e0ce324b-b3ee-4357-b63f-f32bc26299f8",
   "metadata": {},
   "outputs": [
    {
     "name": "stdout",
     "output_type": "stream",
     "text": [
      "my first name is balaji and last name is Durshetti\n"
     ]
    }
   ],
   "source": [
    "print(\"my first name is {} and last name is {}\".format(\"balaji\",lastName))"
   ]
  },
  {
   "cell_type": "code",
   "execution_count": 18,
   "id": "4fd13dd0-1068-4051-9e17-2fb069386ea4",
   "metadata": {},
   "outputs": [
    {
     "data": {
      "text/plain": [
       "6"
      ]
     },
     "execution_count": 18,
     "metadata": {},
     "output_type": "execute_result"
    }
   ],
   "source": [
    "len(\"balaji\")"
   ]
  },
  {
   "cell_type": "code",
   "execution_count": 19,
   "id": "37134154-a10b-4431-be24-4c0f6941a7c4",
   "metadata": {},
   "outputs": [
    {
     "data": {
      "text/plain": [
       "16"
      ]
     },
     "execution_count": 19,
     "metadata": {},
     "output_type": "execute_result"
    }
   ],
   "source": [
    "len(\"balaji Durshetti\")\n"
   ]
  },
  {
   "cell_type": "code",
   "execution_count": 20,
   "id": "0ae6ab4f-d1b2-48f1-b7a7-894300b206da",
   "metadata": {},
   "outputs": [
    {
     "data": {
      "text/plain": [
       "7"
      ]
     },
     "execution_count": 20,
     "metadata": {},
     "output_type": "execute_result"
    }
   ],
   "source": [
    "len(\"       \")"
   ]
  },
  {
   "cell_type": "markdown",
   "id": "ef9c3054-7c42-48ce-8076-18c3dd9a1099",
   "metadata": {},
   "source": [
    "- Variable Assignment"
   ]
  },
  {
   "cell_type": "code",
   "execution_count": 3,
   "id": "360c0121-216c-4f68-a741-fd3a9279de04",
   "metadata": {},
   "outputs": [],
   "source": [
    "# as python is dynamic programming language no need to give type of variable before assignment\n"
   ]
  },
  {
   "cell_type": "markdown",
   "id": "cf7d6ca1-662c-4aac-8a40-6e1211b1ad8c",
   "metadata": {},
   "source": [
    "# Various ways of printing"
   ]
  },
  {
   "cell_type": "code",
   "execution_count": 4,
   "id": "fb158635-9680-4b50-90e8-1e1a2ba8ea37",
   "metadata": {},
   "outputs": [
    {
     "name": "stdout",
     "output_type": "stream",
     "text": [
      "balaji\n"
     ]
    }
   ],
   "source": [
    "print(\"balaji\")"
   ]
  },
  {
   "cell_type": "code",
   "execution_count": 5,
   "id": "8a32df81-206b-46c3-981d-4e325aac8700",
   "metadata": {},
   "outputs": [],
   "source": [
    "a= \"balaji\" \n",
    "b= \"durshetti\"\n"
   ]
  },
  {
   "cell_type": "code",
   "execution_count": 7,
   "id": "fe4fd071-d8eb-45f4-98d3-e903c7d8309f",
   "metadata": {},
   "outputs": [
    {
     "name": "stdout",
     "output_type": "stream",
     "text": [
      "my first name is balaji and my last name is durshetti\n"
     ]
    }
   ],
   "source": [
    "print(\"my first name is {} and my last name is {}\".format(a,b))"
   ]
  },
  {
   "cell_type": "code",
   "execution_count": 8,
   "id": "c10f4664-4cad-470d-b208-5ade8b02592b",
   "metadata": {},
   "outputs": [
    {
     "name": "stdout",
     "output_type": "stream",
     "text": [
      "my first name is balaji and my last name is durshetti\n"
     ]
    }
   ],
   "source": [
    "print(\"my first name is {first} and my last name is {last}\".format(first= a,last=b))"
   ]
  },
  {
   "cell_type": "code",
   "execution_count": 9,
   "id": "16b2a17a-d3f7-4feb-8c20-55f73e0088c9",
   "metadata": {},
   "outputs": [
    {
     "name": "stdout",
     "output_type": "stream",
     "text": [
      "my first name is durshetti and my last name is balaji\n"
     ]
    }
   ],
   "source": [
    "print(\"my first name is {last} and my last name is {first}\".format(first= a,last=b))"
   ]
  },
  {
   "cell_type": "code",
   "execution_count": 10,
   "id": "88cf5a4a-bf93-417e-bf58-6e9dfb73c090",
   "metadata": {},
   "outputs": [
    {
     "name": "stdout",
     "output_type": "stream",
     "text": [
      "my first name is durshetti and my last name is balaji\n"
     ]
    },
    {
     "ename": "TypeError",
     "evalue": "object of type 'NoneType' has no len()",
     "output_type": "error",
     "traceback": [
      "\u001b[1;31m---------------------------------------------------------------------------\u001b[0m",
      "\u001b[1;31mTypeError\u001b[0m                                 Traceback (most recent call last)",
      "Cell \u001b[1;32mIn[10], line 1\u001b[0m\n\u001b[1;32m----> 1\u001b[0m \u001b[38;5;28mlen\u001b[39m(\u001b[38;5;28mprint\u001b[39m(\u001b[38;5;124m\"\u001b[39m\u001b[38;5;124mmy first name is \u001b[39m\u001b[38;5;132;01m{last}\u001b[39;00m\u001b[38;5;124m and my last name is \u001b[39m\u001b[38;5;132;01m{first}\u001b[39;00m\u001b[38;5;124m\"\u001b[39m\u001b[38;5;241m.\u001b[39mformat(first\u001b[38;5;241m=\u001b[39m a,last\u001b[38;5;241m=\u001b[39mb)))\n",
      "\u001b[1;31mTypeError\u001b[0m: object of type 'NoneType' has no len()"
     ]
    }
   ],
   "source": [
    "len(print(\"my first name is {last} and my last name is {first}\".format(first= a,last=b)))"
   ]
  },
  {
   "cell_type": "code",
   "execution_count": null,
   "id": "680a2ba9-4907-4a12-b64a-0434d422ba11",
   "metadata": {},
   "outputs": [],
   "source": []
  }
 ],
 "metadata": {
  "kernelspec": {
   "display_name": "Python 3 (ipykernel)",
   "language": "python",
   "name": "python3"
  },
  "language_info": {
   "codemirror_mode": {
    "name": "ipython",
    "version": 3
   },
   "file_extension": ".py",
   "mimetype": "text/x-python",
   "name": "python",
   "nbconvert_exporter": "python",
   "pygments_lexer": "ipython3",
   "version": "3.12.7"
  }
 },
 "nbformat": 4,
 "nbformat_minor": 5
}
