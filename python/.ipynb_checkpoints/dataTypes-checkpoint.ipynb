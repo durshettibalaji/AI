{
 "cells": [
  {
   "cell_type": "markdown",
   "id": "29f993a8-5ae7-4742-8f14-8e2e496cece8",
   "metadata": {},
   "source": [
    "# lets learn python\n"
   ]
  },
  {
   "cell_type": "markdown",
   "id": "503a1940-b583-4dc6-9923-2bcb95581663",
   "metadata": {},
   "source": [
    "- Data Types\n"
   ]
  },
  {
   "cell_type": "markdown",
   "id": "b95ab9e4-b3c2-4ca9-a20f-d2e40db62d81",
   "metadata": {},
   "source": [
    "#### to check data type"
   ]
  },
  {
   "cell_type": "code",
   "execution_count": 4,
   "id": "cef526cf-3fef-41f3-8089-968db9e3be4e",
   "metadata": {},
   "outputs": [
    {
     "data": {
      "text/plain": [
       "int"
      ]
     },
     "execution_count": 4,
     "metadata": {},
     "output_type": "execute_result"
    }
   ],
   "source": [
    "type(1)"
   ]
  },
  {
   "cell_type": "code",
   "execution_count": 6,
   "id": "1f1b1ae2-5a77-4a76-bf91-8dc47439d735",
   "metadata": {},
   "outputs": [
    {
     "data": {
      "text/plain": [
       "bool"
      ]
     },
     "execution_count": 6,
     "metadata": {},
     "output_type": "execute_result"
    }
   ],
   "source": [
    "type(True)"
   ]
  },
  {
   "cell_type": "code",
   "execution_count": 7,
   "id": "b54883ad-5b87-41c0-a7dd-fe9f761f4ad7",
   "metadata": {},
   "outputs": [
    {
     "data": {
      "text/plain": [
       "str"
      ]
     },
     "execution_count": 7,
     "metadata": {},
     "output_type": "execute_result"
    }
   ],
   "source": [
    "type(\"balaji\")"
   ]
  },
  {
   "cell_type": "code",
   "execution_count": 8,
   "id": "e689fac3-4ccf-4fe7-9176-60e9db5cea36",
   "metadata": {},
   "outputs": [],
   "source": [
    "# string is encoded in double code or single code "
   ]
  },
  {
   "cell_type": "code",
   "execution_count": 9,
   "id": "d87245d3-a328-4027-9b4e-3aff9510e490",
   "metadata": {},
   "outputs": [
    {
     "data": {
      "text/plain": [
       "str"
      ]
     },
     "execution_count": 9,
     "metadata": {},
     "output_type": "execute_result"
    }
   ],
   "source": [
    "a=\"balaji\"\n",
    "b='balaji'\n",
    "type(a)\n"
   ]
  },
  {
   "cell_type": "code",
   "execution_count": 10,
   "id": "a4d17bf6-1a88-4eb6-9feb-7af92a1bdcaa",
   "metadata": {},
   "outputs": [
    {
     "data": {
      "text/plain": [
       "str"
      ]
     },
     "execution_count": 10,
     "metadata": {},
     "output_type": "execute_result"
    }
   ],
   "source": [
    "type(b)"
   ]
  },
  {
   "cell_type": "code",
   "execution_count": 11,
   "id": "1e0ed663-6761-418f-abb2-eadf77f170f5",
   "metadata": {},
   "outputs": [
    {
     "name": "stdout",
     "output_type": "stream",
     "text": [
      "balaji\n"
     ]
    }
   ],
   "source": [
    "print(a)"
   ]
  },
  {
   "cell_type": "code",
   "execution_count": 14,
   "id": "3d423d7b-693d-4ef2-86db-0f4c4037a84f",
   "metadata": {},
   "outputs": [
    {
     "name": "stdout",
     "output_type": "stream",
     "text": [
      "my first name is Balaji and last name isDurshetti\n"
     ]
    }
   ],
   "source": [
    "firstName =\"Balaji\"\n",
    "lastName =\"Durshetti\"\n",
    "print(\"my first name is {} and last name is {}\".format(firstName,lastName))"
   ]
  },
  {
   "cell_type": "code",
   "execution_count": 16,
   "id": "e541420e-48ab-463c-99f3-ad902b25b017",
   "metadata": {},
   "outputs": [
    {
     "name": "stdout",
     "output_type": "stream",
     "text": [
      "my first name is Balaji and last name is Durshetti\n"
     ]
    }
   ],
   "source": [
    "print(\"my first name is {first} and last name is {laste}\".format(first=firstName,laste=lastName))"
   ]
  },
  {
   "cell_type": "code",
   "execution_count": 17,
   "id": "e0ce324b-b3ee-4357-b63f-f32bc26299f8",
   "metadata": {},
   "outputs": [
    {
     "name": "stdout",
     "output_type": "stream",
     "text": [
      "my first name is balaji and last name is Durshetti\n"
     ]
    }
   ],
   "source": [
    "print(\"my first name is {} and last name is {}\".format(\"balaji\",lastName))"
   ]
  },
  {
   "cell_type": "code",
   "execution_count": 18,
   "id": "4fd13dd0-1068-4051-9e17-2fb069386ea4",
   "metadata": {},
   "outputs": [
    {
     "data": {
      "text/plain": [
       "6"
      ]
     },
     "execution_count": 18,
     "metadata": {},
     "output_type": "execute_result"
    }
   ],
   "source": [
    "len(\"balaji\")"
   ]
  },
  {
   "cell_type": "code",
   "execution_count": 19,
   "id": "37134154-a10b-4431-be24-4c0f6941a7c4",
   "metadata": {},
   "outputs": [
    {
     "data": {
      "text/plain": [
       "16"
      ]
     },
     "execution_count": 19,
     "metadata": {},
     "output_type": "execute_result"
    }
   ],
   "source": [
    "len(\"balaji Durshetti\")\n"
   ]
  },
  {
   "cell_type": "code",
   "execution_count": 20,
   "id": "0ae6ab4f-d1b2-48f1-b7a7-894300b206da",
   "metadata": {},
   "outputs": [
    {
     "data": {
      "text/plain": [
       "7"
      ]
     },
     "execution_count": 20,
     "metadata": {},
     "output_type": "execute_result"
    }
   ],
   "source": [
    "len(\"       \")"
   ]
  },
  {
   "cell_type": "code",
   "execution_count": null,
   "id": "0abb80aa-d367-4558-b3b0-c5c8c62ba4ad",
   "metadata": {},
   "outputs": [],
   "source": []
  }
 ],
 "metadata": {
  "kernelspec": {
   "display_name": "Python 3 (ipykernel)",
   "language": "python",
   "name": "python3"
  },
  "language_info": {
   "codemirror_mode": {
    "name": "ipython",
    "version": 3
   },
   "file_extension": ".py",
   "mimetype": "text/x-python",
   "name": "python",
   "nbconvert_exporter": "python",
   "pygments_lexer": "ipython3",
   "version": "3.12.7"
  }
 },
 "nbformat": 4,
 "nbformat_minor": 5
}
